{
 "cells": [
  {
   "cell_type": "code",
   "execution_count": 3,
   "id": "929a50fc-9fda-4077-b349-ad87c6e42f38",
   "metadata": {},
   "outputs": [
    {
     "name": "stdin",
     "output_type": "stream",
     "text": [
      "enter the number 55\n",
      "enter the number 1\n"
     ]
    },
    {
     "name": "stdout",
     "output_type": "stream",
     "text": [
      "1.add\n",
      "2.sub\n",
      "3.mul.\n",
      "4.div\n"
     ]
    },
    {
     "name": "stdin",
     "output_type": "stream",
     "text": [
      "enter the choice from above 2\n"
     ]
    },
    {
     "name": "stdout",
     "output_type": "stream",
     "text": [
      "the sub is  54\n"
     ]
    }
   ],
   "source": [
    "a=int(input(\"enter the number\"))\n",
    "b=int(input(\"enter the number\"))\n",
    "print(\"1.add\")\n",
    "print(\"2.sub\")\n",
    "print(\"3.mul.\")\n",
    "print(\"4.div\")\n",
    "choice=int(input(\"enter the choice from above\"))\n",
    "if choice==1:\n",
    "    print(\"the sum is \", a+b)\n",
    "elif choice==2:\n",
    "    print(\"the sub is \",a-b)  \n",
    "elif choice==3:\n",
    "    print(\"the mul is \",a*b)\n",
    "elif choice==4:\n",
    "      print(\"the div is \",a/b)\n",
    "else:\n",
    "    print(\"invalid choice\")"
   ]
  },
  {
   "cell_type": "code",
   "execution_count": 7,
   "id": "fc22edb9-f5cf-416f-b013-f6ee6ebdf83a",
   "metadata": {},
   "outputs": [
    {
     "name": "stdin",
     "output_type": "stream",
     "text": [
      "enter the number 22\n",
      "enter the number 22\n",
      "enter the number 22\n"
     ]
    },
    {
     "name": "stdout",
     "output_type": "stream",
     "text": [
      "22 is greatest\n"
     ]
    }
   ],
   "source": [
    "a=int(input(\"enter the number\"))\n",
    "b=int(input(\"enter the number\"))\n",
    "c=int(input(\"enter the number\"))\n",
    "\n",
    "if a>b:  \n",
    "    if a>c:\n",
    "        print(a,\"is greater\")\n",
    "    else:\n",
    "        print(c,\"is greater\")\n",
    "else:\n",
    "    if b>c:\n",
    "        print(b,\"is greatest\")\n",
    "    else:\n",
    "        print(c,\"is greatest\")\n",
    "            \n"
   ]
  },
  {
   "cell_type": "code",
   "execution_count": 9,
   "id": "caf5c40e-82bc-4568-9bbf-c79bc0f20056",
   "metadata": {},
   "outputs": [
    {
     "name": "stdin",
     "output_type": "stream",
     "text": [
      "enter the number of units 450\n"
     ]
    },
    {
     "name": "stdout",
     "output_type": "stream",
     "text": [
      "Amount to pay: 3000\n"
     ]
    }
   ],
   "source": [
    "amt=0\n",
    "nu=int(input(\"enter the number of units\"))\n",
    "if nu<=100:\n",
    "       amt=0\n",
    "if nu>100:\n",
    "    amt=(nu-100)*5\n",
    "if nu>200:\n",
    "    amt=0+500+(nu-200)*10\n",
    "print(\"Amount to pay:\",amt)"
   ]
  },
  {
   "cell_type": "code",
   "execution_count": 13,
   "id": "80c5aec3-85b6-428b-8df0-7ff58e22ee5f",
   "metadata": {},
   "outputs": [
    {
     "name": "stdin",
     "output_type": "stream",
     "text": [
      "enter a number -9\n"
     ]
    },
    {
     "name": "stdout",
     "output_type": "stream",
     "text": [
      "9\n"
     ]
    }
   ],
   "source": [
    "number = int(input(\"enter a number\"))\n",
    "if number<0:\n",
    "    print(number*-1)\n",
    "else:\n",
    "    print(number)"
   ]
  },
  {
   "cell_type": "code",
   "execution_count": 22,
   "id": "b5a3cb23-1afd-44fe-8d11-076382c178f6",
   "metadata": {
    "scrolled": true
   },
   "outputs": [
    {
     "name": "stdin",
     "output_type": "stream",
     "text": [
      "Enter lenth 12\n",
      "enter breath 10\n"
     ]
    },
    {
     "name": "stdout",
     "output_type": "stream",
     "text": [
      "No,it is squre)\n"
     ]
    },
    {
     "ename": "NameError",
     "evalue": "name 'lenght' is not defined",
     "output_type": "error",
     "traceback": [
      "\u001b[1;31m---------------------------------------------------------------------------\u001b[0m",
      "\u001b[1;31mNameError\u001b[0m                                 Traceback (most recent call last)",
      "Cell \u001b[1;32mIn[22], line 8\u001b[0m\n\u001b[0;32m      6\u001b[0m \u001b[38;5;28;01melse\u001b[39;00m:\n\u001b[0;32m      7\u001b[0m     \u001b[38;5;28mprint\u001b[39m(\u001b[38;5;124m\"\u001b[39m\u001b[38;5;124mNo,it is squre)\u001b[39m\u001b[38;5;124m\"\u001b[39m)\n\u001b[1;32m----> 8\u001b[0m     \u001b[38;5;28mprint\u001b[39m(\u001b[38;5;124m\"\u001b[39m\u001b[38;5;124mthe area of sqaure is \u001b[39m\u001b[38;5;124m\"\u001b[39m,lenght\u001b[38;5;241m*\u001b[39m\u001b[38;5;241m*\u001b[39m\u001b[38;5;241m2\u001b[39m)\n",
      "\u001b[1;31mNameError\u001b[0m: name 'lenght' is not defined"
     ]
    }
   ],
   "source": [
    "length = int(input(\"Enter lenth\"))\n",
    "breadth = int(input(\"enter breath\"))\n",
    "if length==breadth:\n",
    "    print(\"yes, it is  square\")\n",
    "    print(\"the area of sqaure is \",length**2)\n",
    "else:\n",
    "    print(\"No,it is squre)\")\n",
    "    print(\"the area of sqaure is \",lenght**2)"
   ]
  },
  {
   "cell_type": "code",
   "execution_count": null,
   "id": "7a84752d-f50b-4b2b-af7d-0d1a24acd055",
   "metadata": {},
   "outputs": [],
   "source": [
    "10\n",
    "12\n"
   ]
  }
 ],
 "metadata": {
  "kernelspec": {
   "display_name": "Python 3 (ipykernel)",
   "language": "python",
   "name": "python3"
  },
  "language_info": {
   "codemirror_mode": {
    "name": "ipython",
    "version": 3
   },
   "file_extension": ".py",
   "mimetype": "text/x-python",
   "name": "python",
   "nbconvert_exporter": "python",
   "pygments_lexer": "ipython3",
   "version": "3.11.7"
  }
 },
 "nbformat": 4,
 "nbformat_minor": 5
}
